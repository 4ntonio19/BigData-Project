{
 "cells": [
  {
   "cell_type": "markdown",
   "metadata": {},
   "source": [
    "Ideia: Dashboard com um input para colocar um emprego ou área e ai baseado nessa entrada, exibiria vários gráficos\n",
    "mostrando os principais tópicos sobre aquele emrpego, como:\n",
    "-Salário\n",
    "-Senioridade\n",
    "-Localização\n",
    "-Tipo de vaga (home, hibrido e presencial)\n",
    "-Principais habilidades\n",
    "-Benefícios\n",
    "-Demanda por educação\n",
    "-Análise de competição: Número de Candidatos por Vaga: Comparação do número de candidatos aplicando para diferentes cargos ou setores."
   ]
  },
  {
   "cell_type": "markdown",
   "metadata": {},
   "source": [
    "Listando todas as colunas do dataset"
   ]
  },
  {
   "cell_type": "code",
   "execution_count": 59,
   "metadata": {},
   "outputs": [
    {
     "name": "stdout",
     "output_type": "stream",
     "text": [
      "<class 'pandas.core.frame.DataFrame'>\n",
      "RangeIndex: 123849 entries, 0 to 123848\n",
      "Data columns (total 31 columns):\n",
      " #   Column                      Non-Null Count   Dtype  \n",
      "---  ------                      --------------   -----  \n",
      " 0   job_id                      123849 non-null  int64  \n",
      " 1   company_name                122130 non-null  object \n",
      " 2   title                       123849 non-null  object \n",
      " 3   description                 123842 non-null  object \n",
      " 4   max_salary                  29793 non-null   float64\n",
      " 5   pay_period                  36073 non-null   object \n",
      " 6   location                    123849 non-null  object \n",
      " 7   company_id                  122132 non-null  float64\n",
      " 8   views                       122160 non-null  float64\n",
      " 9   med_salary                  123849 non-null  float64\n",
      " 10  min_salary                  29793 non-null   float64\n",
      " 11  formatted_work_type         123849 non-null  object \n",
      " 12  applies                     23320 non-null   float64\n",
      " 13  original_listed_time        123849 non-null  float64\n",
      " 14  remote_allowed              15246 non-null   float64\n",
      " 15  job_posting_url             123849 non-null  object \n",
      " 16  application_url             87184 non-null   object \n",
      " 17  application_type            123849 non-null  object \n",
      " 18  expiry                      123849 non-null  float64\n",
      " 19  closed_time                 1073 non-null    float64\n",
      " 20  formatted_experience_level  94440 non-null   object \n",
      " 21  skills_desc                 2439 non-null    object \n",
      " 22  listed_time                 123849 non-null  float64\n",
      " 23  posting_domain              83881 non-null   object \n",
      " 24  sponsored                   123849 non-null  int64  \n",
      " 25  work_type                   123849 non-null  object \n",
      " 26  currency                    36073 non-null   object \n",
      " 27  compensation_type           36073 non-null   object \n",
      " 28  normalized_salary           36073 non-null   float64\n",
      " 29  zip_code                    102977 non-null  float64\n",
      " 30  fips                        96434 non-null   float64\n",
      "dtypes: float64(14), int64(2), object(15)\n",
      "memory usage: 29.3+ MB\n"
     ]
    }
   ],
   "source": [
    "import pandas as pd\n",
    "\n",
    "jobs = pd.read_csv('./project/app/data/new-dataset/postings.csv')\n",
    "jobs.info()\n",
    "\n"
   ]
  },
  {
   "cell_type": "markdown",
   "metadata": {},
   "source": [
    "Exibindo a média dos valores de salário baseadas na senioridade"
   ]
  },
  {
   "cell_type": "code",
   "execution_count": 3,
   "metadata": {},
   "outputs": [
    {
     "data": {
      "text/plain": [
       "0                                Marketing Coordinator\n",
       "1                    Mental Health Therapist/Counselor\n",
       "2                          Assitant Restaurant Manager\n",
       "3    Senior Elder Law / Trusts and Estates Associat...\n",
       "4                                   Service Technician\n",
       "5             Economic Development and Planning Intern\n",
       "6                                             Producer\n",
       "7                                    Building Engineer\n",
       "8                                Respiratory Therapist\n",
       "9                                       Worship Leader\n",
       "Name: title, dtype: object"
      ]
     },
     "execution_count": 3,
     "metadata": {},
     "output_type": "execute_result"
    }
   ],
   "source": [
    "jobs[\"title\"].head(10)"
   ]
  },
  {
   "cell_type": "code",
   "execution_count": 64,
   "metadata": {},
   "outputs": [
    {
     "name": "stdout",
     "output_type": "stream",
     "text": [
      "   max_salary  min_salary  med_salary pay_period  calculated_med_salary\n",
      "0     42240.0     35904.0     39072.0     YEARLY                39072.0\n",
      "1    105600.0     63360.0     84480.0     YEARLY                84480.0\n",
      "2     65000.0     45000.0     55000.0     YEARLY                55000.0\n",
      "3    175000.0    140000.0    157500.0     YEARLY               157500.0\n",
      "4     80000.0     60000.0     70000.0     YEARLY                70000.0\n",
      "5     42240.0     29568.0     35904.0     YEARLY                35904.0\n",
      "6    300000.0     60000.0    180000.0     YEARLY               180000.0\n",
      "7    120000.0     90000.0    105000.0     YEARLY               105000.0\n",
      "8         NaN         NaN         NaN        NaN                    NaN\n",
      "9         NaN         NaN       350.0     YEARLY                    NaN\n"
     ]
    }
   ],
   "source": [
    "# Padronizando as colunas max_salary e min_salary para que os valores estejam no período anual\n",
    "# valor horas * 44 (horas semanais)\n",
    "# (valor horas semanais) * 4 (quantidade de semanas)\n",
    "# (valor mensal) * 12 (anual)\n",
    "jobs[['max_salary', 'min_salary', 'pay_period']] = jobs.apply(\n",
    "    lambda row:(\n",
    "        # Caso o pay_period seja 'HOURLY'\n",
    "        ((row['max_salary'] * 44) * 4) * 12,\n",
    "        ((row['min_salary'] * 44) * 4) * 12,\n",
    "        'YEARLY'\n",
    "    ) if row['pay_period'] == 'HOURLY' else (\n",
    "        # Caso o pay_period seja 'MONTHLY'\n",
    "        row['max_salary'] * 12,\n",
    "        row['min_salary'] * 12,\n",
    "        'YEARLY'\n",
    "    ) if row['pay_period'] == 'MONTHLY' else (\n",
    "        # Caso contrário, mantenha os valores originais\n",
    "        row['max_salary'],\n",
    "        row['min_salary'],\n",
    "        row['pay_period']\n",
    "    ),\n",
    "    axis=1,\n",
    "    result_type='expand'\n",
    ")\n",
    "#Criamos esse calculated_med_salary apenas como efeito de comparação das colunas em testes\n",
    "jobs['calculated_med_salary'] = (jobs['max_salary'] + jobs['min_salary']) / 2\n",
    "print(jobs[['max_salary', 'min_salary', 'med_salary', 'pay_period', 'calculated_med_salary']].head(10))"
   ]
  },
  {
   "cell_type": "code",
   "execution_count": 78,
   "metadata": {},
   "outputs": [
    {
     "name": "stdout",
     "output_type": "stream",
     "text": [
      "   max_salary  min_salary  med_salary  calculated_med_salary\n",
      "0     42240.0     35904.0     39000.0                39072.0\n",
      "1    105600.0     63360.0     84000.0                84480.0\n",
      "2     65000.0     45000.0     55000.0                55000.0\n",
      "3    175000.0    140000.0    158000.0               157500.0\n",
      "4     80000.0     60000.0     70000.0                70000.0\n",
      "5     42240.0     29568.0     36000.0                35904.0\n",
      "6    300000.0     60000.0    180000.0               180000.0\n",
      "7    120000.0     90000.0    105000.0               105000.0\n",
      "8         NaN         NaN         NaN                    NaN\n",
      "9         NaN         NaN         NaN                    NaN\n"
     ]
    }
   ],
   "source": [
    "# Os valores da média salarial que estiverem nulos, serem substituidos pela média da soma do max_salary e min_salary\n",
    "jobs['med_salary'] = jobs.apply(\n",
    "    lambda row: (row['max_salary'] + row['min_salary']) / 2 \n",
    "    if row['med_salary'] <= 0 else row['med_salary'],\n",
    "    axis=1\n",
    ")\n",
    "jobs['med_salary'] = jobs['med_salary'].round(-3)\n",
    "print(jobs[['max_salary', 'min_salary', 'med_salary', 'calculated_med_salary']].head(10))"
   ]
  },
  {
   "cell_type": "code",
   "execution_count": 79,
   "metadata": {},
   "outputs": [
    {
     "data": {
      "text/html": [
       "<div>\n",
       "<style scoped>\n",
       "    .dataframe tbody tr th:only-of-type {\n",
       "        vertical-align: middle;\n",
       "    }\n",
       "\n",
       "    .dataframe tbody tr th {\n",
       "        vertical-align: top;\n",
       "    }\n",
       "\n",
       "    .dataframe thead th {\n",
       "        text-align: right;\n",
       "    }\n",
       "</style>\n",
       "<table border=\"1\" class=\"dataframe\">\n",
       "  <thead>\n",
       "    <tr style=\"text-align: right;\">\n",
       "      <th></th>\n",
       "      <th>formatted_experience_level</th>\n",
       "      <th>med_salary</th>\n",
       "    </tr>\n",
       "  </thead>\n",
       "  <tbody>\n",
       "    <tr>\n",
       "      <th>0</th>\n",
       "      <td>Associate</td>\n",
       "      <td>75000.0</td>\n",
       "    </tr>\n",
       "    <tr>\n",
       "      <th>1</th>\n",
       "      <td>Director</td>\n",
       "      <td>168000.0</td>\n",
       "    </tr>\n",
       "    <tr>\n",
       "      <th>2</th>\n",
       "      <td>Entry level</td>\n",
       "      <td>58000.0</td>\n",
       "    </tr>\n",
       "    <tr>\n",
       "      <th>3</th>\n",
       "      <td>Executive</td>\n",
       "      <td>195000.0</td>\n",
       "    </tr>\n",
       "    <tr>\n",
       "      <th>4</th>\n",
       "      <td>Internship</td>\n",
       "      <td>52500.0</td>\n",
       "    </tr>\n",
       "    <tr>\n",
       "      <th>5</th>\n",
       "      <td>Mid-Senior level</td>\n",
       "      <td>110000.0</td>\n",
       "    </tr>\n",
       "  </tbody>\n",
       "</table>\n",
       "</div>"
      ],
      "text/plain": [
       "  formatted_experience_level  med_salary\n",
       "0                  Associate     75000.0\n",
       "1                   Director    168000.0\n",
       "2                Entry level     58000.0\n",
       "3                  Executive    195000.0\n",
       "4                 Internship     52500.0\n",
       "5           Mid-Senior level    110000.0"
      ]
     },
     "execution_count": 79,
     "metadata": {},
     "output_type": "execute_result"
    }
   ],
   "source": [
    "# Agrupando o salário de acordo com a senioridade\n",
    "jobs[[\"formatted_experience_level\", \"med_salary\"]].groupby(\"formatted_experience_level\").median().reset_index()"
   ]
  },
  {
   "cell_type": "code",
   "execution_count": 80,
   "metadata": {},
   "outputs": [],
   "source": [
    "#Escrevendo um gráfico em um html mostrando a proporção Salário x Senioridade das vagas\n",
    "from dash import Dash, dcc, html, Input, Output\n",
    "import plotly.graph_objects as go\n",
    "\n",
    "median_salaries=jobs[[\"formatted_experience_level\", \"med_salary\"]].groupby(\"formatted_experience_level\").median().reset_index()\n",
    "fig = go.Figure(\n",
    "        data=go.Bar(x=median_salaries[\"formatted_experience_level\"],\n",
    "                    y=median_salaries[\"med_salary\"],\n",
    "                    text=median_salaries[\"med_salary\"],\n",
    "                    texttemplate='%{text:.2f}',  \n",
    "                    textposition='outside'\n",
    "                    ))\n",
    "fig.write_html('first_figure.html', auto_open=True)\n"
   ]
  },
  {
   "cell_type": "markdown",
   "metadata": {},
   "source": [
    "Um gráfico que seria baseado em um select listando algumas profissões, quando escolher uma, vai mostrar a proporção salário x senioridade daquela profissão em específico.\n",
    "TA QUEBRADO:"
   ]
  },
  {
   "cell_type": "code",
   "execution_count": 82,
   "metadata": {},
   "outputs": [
    {
     "data": {
      "text/html": [
       "\n",
       "        <iframe\n",
       "            width=\"100%\"\n",
       "            height=\"650\"\n",
       "            src=\"http://127.0.0.1:8050/\"\n",
       "            frameborder=\"0\"\n",
       "            allowfullscreen\n",
       "            \n",
       "        ></iframe>\n",
       "        "
      ],
      "text/plain": [
       "<IPython.lib.display.IFrame at 0x23c0b013620>"
      ]
     },
     "metadata": {},
     "output_type": "display_data"
    }
   ],
   "source": [
    "from dash import Dash, dcc, html, Input, Output\n",
    "import plotly.graph_objects as go\n",
    "cargos = []\n",
    "# median_salaries=jobs[[\"formatted_experience_level\", \"max_salary\"]].groupby(\"formatted_experience_level\").median().reset_index()\n",
    "\n",
    "app = Dash(__name__)\n",
    "\n",
    "app.layout = html.Div([\n",
    "    html.H4('Análise da média salarial x senioridade'),\n",
    "    html.P(\"Selecione o cargo:\"),\n",
    "    dcc.Dropdown(\n",
    "        id=\"dropdown\",\n",
    "        options=[\"Leader\", \"Assitant\", \"Producer\", \"Developer\"],\n",
    "        value='Leader',\n",
    "        clearable=False,\n",
    "    ),\n",
    "    dcc.Graph(id=\"graph\"),\n",
    "])\n",
    "\n",
    "@app.callback(\n",
    "    Output(\"graph\", \"figure\"), \n",
    "    Input(\"dropdown\", \"value\"))\n",
    "def display_cargo(cargo):\n",
    "    filtered_jobs = jobs[jobs[\"title\"].str.contains(cargo, case=False, na=False)]\n",
    "    median_salaries=filtered_jobs[[\"formatted_experience_level\", \"med_salary\"]].groupby(\"formatted_experience_level\").median().reset_index()\n",
    "    fig = go.Figure(\n",
    "        data=go.Bar(x=median_salaries[\"formatted_experience_level\"],\n",
    "                    y=median_salaries[\"med_salary\"],\n",
    "                    textposition='outside'))\n",
    "    return fig\n",
    "\n",
    "\n",
    "app.run_server(debug=True)"
   ]
  }
 ],
 "metadata": {
  "kernelspec": {
   "display_name": "Python 3",
   "language": "python",
   "name": "python3"
  },
  "language_info": {
   "codemirror_mode": {
    "name": "ipython",
    "version": 3
   },
   "file_extension": ".py",
   "mimetype": "text/x-python",
   "name": "python",
   "nbconvert_exporter": "python",
   "pygments_lexer": "ipython3",
   "version": "3.12.5"
  }
 },
 "nbformat": 4,
 "nbformat_minor": 2
}
